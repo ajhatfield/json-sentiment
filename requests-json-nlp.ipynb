{
 "cells": [
  {
   "cell_type": "markdown",
   "metadata": {},
   "source": [
    "# Web Mining and Applied NLP (44-620)\n",
    "\n",
    "## Requests, JSON, and NLP\n",
    "\n",
    "### Student Name: Alison Hatfield\n",
    "\n",
    "### GitHub Repo: https://github.com/ajhatfield/json-sentiment \n",
    "\n",
    "Perform the tasks described in the Markdown cells below.  When you have completed the assignment make sure your code cells have all been run (and have output beneath them) and ensure you have committed and pushed ALL of your changes to your assignment repository.\n",
    "\n",
    "Make sure you have [installed spaCy and its pipeline](https://spacy.io/usage#quickstart) and [spaCyTextBlob](https://spacy.io/universe/project/spacy-textblob)\n",
    "\n",
    "Every question that requires you to write code will have a code cell underneath it; you may either write your entire solution in that cell or write it in a python file (`.py`), then import and run the appropriate code to answer the question.\n",
    "\n",
    "This assignment requires that you write additional files (either JSON or pickle files); make sure to submit those files in your repository as well."
   ]
  },
  {
   "cell_type": "code",
   "execution_count": 6,
   "metadata": {},
   "outputs": [
    {
     "name": "stdout",
     "output_type": "stream",
     "text": [
      "All prereqs installed.\n",
      "Package            Version\n",
      "------------------ -----------\n",
      "annotated-types    0.6.0\n",
      "appnope            0.1.4\n",
      "asttokens          2.4.1\n",
      "blis               0.7.11\n",
      "catalogue          2.0.10\n",
      "certifi            2024.2.2\n",
      "charset-normalizer 3.3.2\n",
      "click              8.1.7\n",
      "cloudpathlib       0.16.0\n",
      "comm               0.2.2\n",
      "confection         0.1.4\n",
      "cymem              2.0.8\n",
      "debugpy            1.8.1\n",
      "decorator          5.1.1\n",
      "en-core-web-lg     3.7.1\n",
      "en-core-web-sm     3.7.1\n",
      "executing          2.0.1\n",
      "filelock           3.13.3\n",
      "fsspec             2024.3.1\n",
      "huggingface-hub    0.22.2\n",
      "idna               3.6\n",
      "ipykernel          6.29.4\n",
      "ipython            8.22.2\n",
      "jedi               0.19.1\n",
      "Jinja2             3.1.3\n",
      "joblib             1.3.2\n",
      "jupyter_client     8.6.1\n",
      "jupyter_core       5.7.2\n",
      "langcodes          3.3.0\n",
      "MarkupSafe         2.1.5\n",
      "matplotlib-inline  0.1.6\n",
      "mpmath             1.3.0\n",
      "murmurhash         1.0.10\n",
      "nest-asyncio       1.6.0\n",
      "networkx           3.2.1\n",
      "nltk               3.8.1\n",
      "numpy              1.26.4\n",
      "packaging          24.0\n",
      "parso              0.8.3\n",
      "pexpect            4.9.0\n",
      "pip                24.0\n",
      "platformdirs       4.2.0\n",
      "preshed            3.0.9\n",
      "prompt-toolkit     3.0.43\n",
      "psutil             5.9.8\n",
      "ptyprocess         0.7.0\n",
      "pure-eval          0.2.2\n",
      "pydantic           2.6.4\n",
      "pydantic_core      2.16.3\n",
      "Pygments           2.17.2\n",
      "python-dateutil    2.9.0.post0\n",
      "PyYAML             6.0.1\n",
      "pyzmq              25.1.2\n",
      "regex              2023.12.25\n",
      "requests           2.31.0\n",
      "safetensors        0.4.2\n",
      "setuptools         69.2.0\n",
      "six                1.16.0\n",
      "smart-open         6.4.0\n",
      "spacy              3.7.4\n",
      "spacy-alignments   0.9.1\n",
      "spacy-legacy       3.0.12\n",
      "spacy-loggers      1.0.5\n",
      "spacy-transformers 1.3.4\n",
      "spacytextblob      4.0.0\n",
      "srsly              2.4.8\n",
      "stack-data         0.6.3\n",
      "sympy              1.12\n",
      "textblob           0.15.3\n",
      "thinc              8.2.3\n",
      "tokenizers         0.15.2\n",
      "torch              2.2.2\n",
      "tornado            6.4\n",
      "tqdm               4.66.2\n",
      "traitlets          5.14.2\n",
      "transformers       4.36.2\n",
      "typer              0.9.4\n",
      "typing_extensions  4.10.0\n",
      "urllib3            2.2.1\n",
      "wasabi             1.1.2\n",
      "wcwidth            0.2.13\n",
      "weasel             0.3.4\n",
      "wheel              0.43.0\n"
     ]
    }
   ],
   "source": [
    "# Create and activate a Python virtual environment. \n",
    "# Before starting the project, try all these imports FIRST\n",
    "# Address any errors you get running this code cell \n",
    "# by installing the necessary packages into your active Python environment.\n",
    "# Try to resolve issues using your materials and the web.\n",
    "# If that doesn't work, ask for help in the discussion forums.\n",
    "# You can't complete the exercises until you import these - start early! \n",
    "# We also import json and pickle (included in the Python Standard Library).\n",
    "\n",
    "import json\n",
    "import pickle\n",
    "\n",
    "import requests\n",
    "import spacy\n",
    "from spacytextblob.spacytextblob import SpacyTextBlob\n",
    "\n",
    "print('All prereqs installed.')\n",
    "!pip list"
   ]
  },
  {
   "cell_type": "markdown",
   "metadata": {},
   "source": [
    "1. The following code accesses the [lyrics.ovh](https://lyricsovh.docs.apiary.io/#reference/0/lyrics-of-a-song/search) public api, searches for the lyrics of a song, and stores it in a dictionary object.  Write the resulting json to a file (either a JSON file or a pickle file; you choose). You will read in the contents of this file for future questions so we do not need to frequently access the API."
   ]
  },
  {
   "cell_type": "code",
   "execution_count": 7,
   "metadata": {},
   "outputs": [
    {
     "name": "stdout",
     "output_type": "stream",
     "text": [
      "The lyrics of Hey Stephen (Taylor's Version) have been written to lyrics_open.json\n"
     ]
    }
   ],
   "source": [
    "import requests\n",
    "import json\n",
    "\n",
    "song = \"Hey Stephen (Taylor's Version)\"\n",
    "artist = 'Taylor Swift'\n",
    "\n",
    "#API URL\n",
    "url = f\"https://api.lyrics.ovh/v1/{artist}/{song}\"\n",
    "\n",
    "#Creating the GET request from the API above\n",
    "result = json.loads(requests.get(url).text)\n",
    "\n",
    "#Putting the JSON data into a file\n",
    "with open('lyrics_open.json', 'w') as file:\n",
    "    json.dump(result,file)\n",
    "\n",
    "#telling user where song lyrics will be\n",
    "print(f'The lyrics of {song} have been written to lyrics_open.json')\n",
    "\n"
   ]
  },
  {
   "cell_type": "markdown",
   "metadata": {},
   "source": [
    "2. Read in the contents of your file.  Print the lyrics of the song (not the entire dictionary!) and use spaCyTextBlob to perform sentiment analysis on the lyrics.  Print the polarity score of the sentiment analysis.  Given that the range of the polarity score is `[-1.0,1.0]` which corresponds to how positive or negative the text in question is, do you think the lyrics have a more positive or negative connotaion?  Answer this question in a comment in your code cell."
   ]
  },
  {
   "cell_type": "code",
   "execution_count": 8,
   "metadata": {},
   "outputs": [
    {
     "name": "stdout",
     "output_type": "stream",
     "text": [
      "Song Lyrics:\n",
      "Paroles de la chanson Hey Stephen par Taylor Swift\n",
      "Hey Stephen, I know looks can be deceiving\n",
      "But I know I saw a light in you\n",
      "And as we walked we were talking\n",
      "I didn't say half the things I wanted to Of all the girls tossing rocks at your window\n",
      "I'll be the one waiting there even when it's cold\n",
      "Hey Stephen, boy, you might have me believing\n",
      "I don't always have to be alone 'Cause I can't help it if you look like an angel\n",
      "Can't help it if I wanna kiss you in the rain so\n",
      "Come feel this magic I've been feeling since I met you\n",
      "Can't help it if there's no one else\n",
      "Mmm, I can't help myself Hey Stephen, I've been holding back this feeling\n",
      "\n",
      "So I got some things to say to you\n",
      "I've seen it all, so I thought\n",
      "But I never seen nobody shine the way you do The way you walk, way you talk, way you say my name\n",
      "It's beautiful, wonderful, don't you ever change\n",
      "Hey Stephen, why are people always leaving?\n",
      "I think you and I should stay the same 'Cause I can't help it if you look like an angel\n",
      "Can't help it if I wanna kiss you in the rain so\n",
      "Come feel this magic I've been feeling since I met you\n",
      "Can't help it if there's no one else\n",
      "Mmm, I can't help myself They're dimming the street lights, you're perfect for me\n",
      "Why aren't you here tonight?\n",
      "I'm waiting alone now, so come on and come out\n",
      "And pull me near and shine, shine, shine Hey Stephen, I could give you fifty reasons\n",
      "\n",
      "Why I should be the one you choose\n",
      "All those other girls, well, they're beautiful\n",
      "But would they write a song for you? I can't help it if you look like an angel\n",
      "Can't help it if I wanna kiss you in the rain so\n",
      "Come feel this magic I've been feeling since I met you\n",
      "Can't help it if there's no one else\n",
      "Mmm, I can't help myself If you look like an angel\n",
      "Can't help it if I wanna kiss you in the rain so\n",
      "Come feel this magic I've been feeling since I met you\n",
      "Can't help it if there's no one else\n",
      "Mmm, I can't help myself Myself\n",
      "Can't help myself\n",
      "I can't help myself\n",
      "\n",
      "The Polarity score the the sentiment analysis is 0.3538888888888889\n",
      "The lyrics have a positive connotation\n"
     ]
    }
   ],
   "source": [
    "import json\n",
    "from textblob import TextBlob\n",
    "\n",
    "#contents of the JSON file \n",
    "file_name = 'lyrics_open.json'\n",
    "with open(file_name, 'r') as file:\n",
    "    lyrics = json.load(file)\n",
    "    \n",
    "#Extract the lyrics from the above JSON data\n",
    "lyrics_text = lyrics['lyrics']\n",
    "\n",
    "#Print lyrics\n",
    "print('Song Lyrics:')\n",
    "print(lyrics_text)\n",
    "print()\n",
    "\n",
    "#Sentiment analysis using TextBlob\n",
    "blob = TextBlob(lyrics_text)\n",
    "score = blob.sentiment.polarity\n",
    "\n",
    "#Print score\n",
    "print(f'The Polarity score the the sentiment analysis is {score}') \n",
    "\n",
    "\n",
    "#Given that the range of the polarity score is `[-1.0,1.0]` which corresponds to how positive or negative the text in question is, \n",
    "# do you think the lyrics have a more positive or negative connotaion?\n",
    "\n",
    "if score > 0:\n",
    "    print('The lyrics have a positive connotation')\n",
    "elif score < 0:\n",
    "    print('The lyrics have a negative connotation')\n",
    "else:\n",
    "    print('The lyrics are neutral')\n",
    "\n"
   ]
  },
  {
   "cell_type": "markdown",
   "metadata": {},
   "source": [
    "3. Write a function that takes an artist, song, and filename, accesses the lyrics.ovh api to get the song lyrics, and writes the results to the specified filename.  Test this function by getting the lyrics to any four songs of your choice and storing them in different files."
   ]
  },
  {
   "cell_type": "code",
   "execution_count": 9,
   "metadata": {},
   "outputs": [
    {
     "name": "stdout",
     "output_type": "stream",
     "text": [
      "Kiwi's lyrics by Harry Styles have been written to Kiwi_song_lyrics.json\n",
      "Sleep On The Floor's lyrics by The Lumineers have been written to Sleep_On_The_Floor_lyrics.json\n",
      "First Date's lyrics by Blink 182 have been written to First_Date_lyrics.json\n",
      "Still into You's lyrics by Paramore have been written to Still_into_You_lyrics.json\n"
     ]
    }
   ],
   "source": [
    "import json\n",
    "import requests\n",
    "\n",
    "def get_lyrics (artist, song, filename):\n",
    "    #API URL\n",
    "    url = f\"https://api.lyrics.ovh/v1/{artist}/{song}\"\n",
    "    \n",
    "    #GET request to API\n",
    "    response = requests.get(url)\n",
    "    \n",
    "    #Check if successful\n",
    "    if response.status_code == 200:\n",
    "        #Extract response\n",
    "        lyrics = response.json()\n",
    "        lyrics_text = lyrics.get('lyrics')\n",
    "        \n",
    "        with open (filename, 'w') as file:\n",
    "            json.dump((artist, song, lyrics_text),file)\n",
    "        print(f\"{song}'s lyrics by {artist} have been written to {filename}\")\n",
    "    else:\n",
    "        print(f\"failed to get lyrics for {song} by {artist}\")\n",
    "\n",
    "#4 examples\n",
    "get_lyrics('Harry Styles', 'Kiwi', 'Kiwi_song_lyrics.json')\n",
    "get_lyrics('The Lumineers', 'Sleep On The Floor', \"Sleep_On_The_Floor_lyrics.json\")\n",
    "get_lyrics('Blink 182', 'First Date', 'First_Date_lyrics.json')\n",
    "get_lyrics('Paramore', 'Still into You', 'Still_into_You_lyrics.json')\n",
    "        "
   ]
  },
  {
   "cell_type": "markdown",
   "metadata": {},
   "source": [
    "4. Write a function that takes the name of a file that contains song lyrics, loads the file, performs sentiment analysis, and returns the polarity score.  Use this function to print the polarity scores (with the name of the song) of the three files you created in question 3.  Does the reported polarity match your understanding of the song's lyrics? Why or why not do you think that might be?  Answer the questions in either a comment in the code cell or a markdown cell under the code cell."
   ]
  },
  {
   "cell_type": "code",
   "execution_count": 13,
   "metadata": {},
   "outputs": [
    {
     "name": "stdout",
     "output_type": "stream",
     "text": [
      "The polarity score for Kiwi_song_lyrics.json is: -0.13911845730027547\n",
      "The polarity score for First_Date_lyrics.json is: 0.017333333333333333\n",
      "The polarity score for Sleep_On_The_Floor_lyrics.json is: 0.11485690235690234\n",
      "The polarity score for Still_into_You_lyrics.json is: -0.04375000000000001\n"
     ]
    }
   ],
   "source": [
    "#Initalize spaCy and add SpacyTextBlob pipeline\n",
    "nlp = spacy.load('en_core_web_sm')\n",
    "nlp.add_pipe('spacytextblob')\n",
    "\n",
    "#create funtion to analyze sentiment analysis and returns polarity score\n",
    "def get_polarity_score(filename):\n",
    "    with open(filename, 'r') as file:\n",
    "        lyrics = file.read()\n",
    "        doc = nlp(lyrics)\n",
    "        polarity_score = doc._.polarity\n",
    "        return polarity_score\n",
    "\n",
    "#list of my song files\n",
    "song_files = ['Kiwi_song_lyrics.json', 'First_Date_lyrics.json','Sleep_On_The_Floor_lyrics.json','Still_into_You_lyrics.json']\n",
    "\n",
    "#Analyze score\n",
    "for file_name in song_files:\n",
    "    score = get_polarity_score(file_name)\n",
    "    print(f'The polarity score for {file_name} is: {score}')"
   ]
  },
  {
   "cell_type": "markdown",
   "metadata": {},
   "source": [
    "I am suprised that Kiwi and Still into You both have negative scores. I always think these are upbeat, happier songs, but after looking at the lyrics more in-depth I understand why the program would think that. First date also has a really low score that is close to 0 and I would think that would be higher as well. It is talking all about going on a first date with someone which should bring excitment. I am not suprised by Sleep on the Floor, however. "
   ]
  }
 ],
 "metadata": {
  "kernelspec": {
   "display_name": "Python 3",
   "language": "python",
   "name": "python3"
  },
  "language_info": {
   "codemirror_mode": {
    "name": "ipython",
    "version": 3
   },
   "file_extension": ".py",
   "mimetype": "text/x-python",
   "name": "python",
   "nbconvert_exporter": "python",
   "pygments_lexer": "ipython3",
   "version": "3.11.4"
  }
 },
 "nbformat": 4,
 "nbformat_minor": 4
}
